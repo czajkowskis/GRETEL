{
 "cells": [
  {
   "cell_type": "code",
   "execution_count": 1,
   "metadata": {},
   "outputs": [
    {
     "data": {
      "text/plain": [
       "'c:\\\\Projects\\\\GRETEL2\\\\GRETEL'"
      ]
     },
     "execution_count": 1,
     "metadata": {},
     "output_type": "execute_result"
    }
   ],
   "source": [
    "import sys\n",
    "import os\n",
    "module_path = os.path.abspath(os.path.join('..'))\n",
    "sys.path.append(module_path)\n",
    "module_path"
   ]
  },
  {
   "cell_type": "code",
   "execution_count": 16,
   "metadata": {},
   "outputs": [],
   "source": [
    "os.chdir(module_path)"
   ]
  },
  {
   "cell_type": "code",
   "execution_count": 17,
   "metadata": {},
   "outputs": [],
   "source": [
    "from src.evaluation.evaluator_manager import EvaluatorManager\n",
    "from src.evaluation.evaluator_manager_do import EvaluatorManager as PairedEvaluatorManager\n",
    "\n",
    "from src.utils.context import Context\n",
    "import sys"
   ]
  },
  {
   "cell_type": "code",
   "execution_count": 18,
   "metadata": {},
   "outputs": [],
   "source": [
    "config_f_name = '1-ASD_ASD-Custom_OBS.jsonc'"
   ]
  },
  {
   "cell_type": "code",
   "execution_count": null,
   "metadata": {},
   "outputs": [],
   "source": []
  },
  {
   "cell_type": "code",
   "execution_count": 19,
   "metadata": {},
   "outputs": [
    {
     "name": "stdout",
     "output_type": "stream",
     "text": [
      "Generating context for: c:\\Projects\\GRETEL2\\GRETEL\\lab\\config\\1-ASD_ASD-Custom_OBS.jsonc\n",
      ",1180796319 | INFO | 22620 - Executing: c:\\Projects\\GRETEL2\\GRETEL\\lab/config/1-ASD_ASD-Custom_OBS.jsonc Run: 1\n",
      ",1180796350 | INFO | 22620 - Creating the evaluation manager....................................\n"
     ]
    },
    {
     "name": "stdout",
     "output_type": "stream",
     "text": [
      ",1180796388 | INFO | 22620 - Creating the paired  evaluators.....................................\n",
      ",1180796497 | INFO | 22620 - Loading: ASD-15273954d84e872cf0b021cd4477bfdc\n",
      ",1180796668 | INFO | 22620 - Created: ASD-15273954d84e872cf0b021cd4477bfdc\n",
      ",1180796774 | INFO | 22620 - Loading: ASDOracle-9e4f3586dc330143b7849fc540b25739\n",
      ",1180796865 | INFO | 22620 - Created: ASDOracle-9e4f3586dc330143b7849fc540b25739\n",
      ",1180796868 | INFO | 22620 - Instantiating: src.explainer.heuristic.obs_dist.ObliviousBidirectionalDistance\n",
      ",1180796916 | INFO | 22620 - Created: ObliviousBidirectionalSearchExplainer-a9d745213c8e6f7a3fd96e175dabab07\n",
      ",1180796954 | INFO | 22620 - Evaluating the explainers.............................................................\n",
      ",1180796957 | INFO | 22620 - Evaluating instance with id 4\n",
      ",1180797438 | INFO | 22620 - evaluated instance with id 4\n",
      ",1180797439 | INFO | 22620 - Evaluating instance with id 13\n",
      ",1180798057 | INFO | 22620 - evaluated instance with id 13\n",
      ",1180798060 | INFO | 22620 - Evaluating instance with id 17\n",
      ",1180798508 | INFO | 22620 - evaluated instance with id 17\n",
      ",1180798511 | INFO | 22620 - Evaluating instance with id 19\n",
      ",1180798949 | INFO | 22620 - evaluated instance with id 19\n",
      ",1180798951 | INFO | 22620 - Evaluating instance with id 23\n",
      ",1180799266 | INFO | 22620 - evaluated instance with id 23\n",
      ",1180799267 | INFO | 22620 - Evaluating instance with id 24\n",
      ",1180799655 | INFO | 22620 - evaluated instance with id 24\n",
      ",1180799657 | INFO | 22620 - Evaluating instance with id 75\n",
      ",1180799851 | INFO | 22620 - evaluated instance with id 75\n",
      ",1180799852 | INFO | 22620 - Evaluating instance with id 77\n",
      ",1180800658 | INFO | 22620 - evaluated instance with id 77\n",
      ",1180800661 | INFO | 22620 - Evaluating instance with id 95\n",
      ",1180801197 | INFO | 22620 - evaluated instance with id 95\n",
      ",1180801198 | INFO | 22620 - Evaluating instance with id 97\n",
      ",1180801457 | INFO | 22620 - evaluated instance with id 97\n",
      ",1180801458 | INFO | 22620 - Evaluating instance with id 98\n",
      ",1180801982 | INFO | 22620 - evaluated instance with id 98\n",
      ",1180801984 | INFO | 22620 - {'src.evaluation.evaluation_metric_runtime.RuntimeMetric': [{'id': '4', 'value': 0.42940211296081543}, {'id': '13', 'value': 0.5057671070098877}, {'id': '17', 'value': 0.38985538482666016}, {'id': '19', 'value': 0.3984706401824951}, {'id': '23', 'value': 0.27974414825439453}, {'id': '24', 'value': 0.3478682041168213}, {'id': '75', 'value': 0.14719438552856445}, {'id': '77', 'value': 0.7548842430114746}, {'id': '95', 'value': 0.49721646308898926}, {'id': '97', 'value': 0.2228856086730957}, {'id': '98', 'value': 0.4821014404296875}], 'src.evaluation.evaluation_metric_ged.GraphEditDistanceMetric': [{'id': '4', 'value': 5.0}, {'id': '13', 'value': 11.0}, {'id': '17', 'value': 6.0}, {'id': '19', 'value': 7.0}, {'id': '23', 'value': 11.0}, {'id': '24', 'value': 14.0}, {'id': '75', 'value': 2.0}, {'id': '77', 'value': 17.0}, {'id': '95', 'value': 17.0}, {'id': '97', 'value': 8.0}, {'id': '98', 'value': 8.0}], 'src.evaluation.evaluation_metric_oracle_calls.OracleCallsMetric': [{'id': '4', 'value': 423}, {'id': '13', 'value': 286}, {'id': '17', 'value': 134}, {'id': '19', 'value': 342}, {'id': '23', 'value': 195}, {'id': '24', 'value': 221}, {'id': '75', 'value': 103}, {'id': '77', 'value': 569}, {'id': '95', 'value': 355}, {'id': '97', 'value': 170}, {'id': '98', 'value': 381}], 'src.evaluation.evaluation_metric_correctness.CorrectnessMetric': [{'id': '4', 'value': 1}, {'id': '13', 'value': 1}, {'id': '17', 'value': 1}, {'id': '19', 'value': 1}, {'id': '23', 'value': 1}, {'id': '24', 'value': 1}, {'id': '75', 'value': 1}, {'id': '77', 'value': 1}, {'id': '95', 'value': 1}, {'id': '97', 'value': 1}, {'id': '98', 'value': 1}], 'src.evaluation.evaluation_metric_sparsity.SparsityMetric': [{'id': '4', 'value': 0.006435006435006435}, {'id': '13', 'value': 0.014102564102564103}, {'id': '17', 'value': 0.0076824583866837385}, {'id': '19', 'value': 0.009162303664921465}, {'id': '23', 'value': 0.014248704663212436}, {'id': '24', 'value': 0.01806451612903226}, {'id': '75', 'value': 0.0026246719160104987}, {'id': '77', 'value': 0.021711366538952746}, {'id': '95', 'value': 0.022339027595269383}, {'id': '97', 'value': 0.01032258064516129}, {'id': '98', 'value': 0.010403120936280884}], 'src.evaluation.evaluation_metric_fidelity.FidelityMetric': [{'id': '4', 'value': 1}, {'id': '13', 'value': 1}, {'id': '17', 'value': 1}, {'id': '19', 'value': 1}, {'id': '23', 'value': 1}, {'id': '24', 'value': 1}, {'id': '75', 'value': 1}, {'id': '77', 'value': 1}, {'id': '95', 'value': 1}, {'id': '97', 'value': 1}, {'id': '98', 'value': 1}], 'src.evaluation.evaluation_metric_oracle_accuracy.OracleAccuracyMetric': [{'id': '4', 'value': 1}, {'id': '13', 'value': 1}, {'id': '17', 'value': 1}, {'id': '19', 'value': 1}, {'id': '23', 'value': 1}, {'id': '24', 'value': 1}, {'id': '75', 'value': 1}, {'id': '77', 'value': 1}, {'id': '95', 'value': 1}, {'id': '97', 'value': 1}, {'id': '98', 'value': 1}]}\n"
     ]
    }
   ],
   "source": [
    "config_path = os.path.join(module_path, 'lab', 'config', config_f_name)\n",
    "runno = 1\n",
    "    \n",
    "print(f\"Generating context for: {config_path}\")\n",
    "context = Context.get_context(config_path)\n",
    "context.run_number = runno\n",
    "\n",
    "context.logger.info(f\"Executing: {context.config_file} Run: {context.run_number}\")\n",
    "context.logger.info(\"Creating the evaluation manager....................................\")\n",
    "\n",
    "\n",
    "if 'do-pairs' in context.conf:\n",
    "    context.logger.info(f\"Creating the paired  evaluators.....................................\")\n",
    "    eval_manager = PairedEvaluatorManager(context)\n",
    "else:\n",
    "    context.logger.info(\"Creating the evaluators......................................................\")\n",
    "    eval_manager = EvaluatorManager(context)\n",
    "\n",
    "context.logger.info(\n",
    "    \"Evaluating the explainers.............................................................\"\n",
    ")\n",
    "eval_manager.evaluate()"
   ]
  }
 ],
 "metadata": {
  "kernelspec": {
   "display_name": "XAI39",
   "language": "python",
   "name": "python3"
  },
  "language_info": {
   "codemirror_mode": {
    "name": "ipython",
    "version": 3
   },
   "file_extension": ".py",
   "mimetype": "text/x-python",
   "name": "python",
   "nbconvert_exporter": "python",
   "pygments_lexer": "ipython3",
   "version": "3.9.18"
  }
 },
 "nbformat": 4,
 "nbformat_minor": 2
}
